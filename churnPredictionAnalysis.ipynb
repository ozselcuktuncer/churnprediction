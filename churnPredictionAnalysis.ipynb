{
 "cells": [
  {
   "cell_type": "code",
   "execution_count": 10,
   "metadata": {},
   "outputs": [],
   "source": [
    "import pandas as pd\n",
    "import numpy as np\n",
    "import sys"
   ]
  },
  {
   "cell_type": "markdown",
   "metadata": {},
   "source": [
    "### Provided Data Frames"
   ]
  },
  {
   "cell_type": "code",
   "execution_count": 11,
   "metadata": {},
   "outputs": [],
   "source": [
    "campaign_descDF = pd.read_csv(\"campaign_desc.csv\")\n",
    "campaign_tableDF = pd.read_csv(\"campaign_table.csv\")\n",
    "productDF = pd.read_csv(\"product.csv\")\n",
    "coupon_redemptDf = pd.read_csv(\"coupon_redempt.csv\")\n",
    "transaction_data = pd.read_csv(\"transaction_data.csv\")\n",
    "causal_dataDF = pd.read_csv(\"causal_data.csv\")\n",
    "couponDF = pd.read_csv(\"coupon.csv\")"
   ]
  },
  {
   "cell_type": "markdown",
   "metadata": {},
   "source": [
    "### Variables config"
   ]
  },
  {
   "cell_type": "code",
   "execution_count": 12,
   "metadata": {},
   "outputs": [],
   "source": [
    "duration = 'duration'\n",
    "end_day = 'END_DAY'\n",
    "start_day = 'START_DAY'\n",
    "description = 'DESCRIPTION'\n",
    "campaign = 'CAMPAIGN'\n",
    "customer_id = 'household_key'\n",
    "basket_id = 'BASKET_ID'\n",
    "day = 'DAY'\n",
    "sales_value = 'SALES_VALUE'\n",
    "product_id = 'PRODUCT_ID'\n",
    "department = 'DEPARTMENT'\n",
    "brand = 'BRAND'\n",
    "store_id = 'STORE_ID'\n",
    "coupon_match = 'COUPON_MATCH_DISC'\n",
    "label = 'label'"
   ]
  },
  {
   "cell_type": "markdown",
   "metadata": {},
   "source": [
    "### Labelling"
   ]
  },
  {
   "cell_type": "code",
   "execution_count": 13,
   "metadata": {
    "scrolled": true
   },
   "outputs": [],
   "source": [
    "def labelling(transaction_data):\n",
    "    \"\"\"Labelling customers who will churn as 1 and who will not churn as 0.\n",
    "    customers who exceeded their avarage purchase period was labelled as churned.\n",
    "    \"\"\"\n",
    "    \n",
    "    #lambda function to calculate average purchase time period for each customer.\n",
    "    avarage_period = lambda x: (x.max() - x.min()) / (x.count() - 1)\n",
    "    #lambda function to calculate number of days passed since the customer last purchase.\n",
    "    last_purchase_days = lambda x: 711 - x.max()\n",
    "\n",
    "    #Selecting household and days per transaction\n",
    "    house_purchaseDF = transaction_data.groupby([customer_id, basket_id])[day].min().reset_index()\n",
    "    \n",
    "    periodDF = house_purchaseDF.groupby([customer_id]).agg(\n",
    "        customer_period = pd.NamedAgg(column= day, aggfunc = avarage_period)).reset_index()\n",
    "    \n",
    "    last_visitDF =house_purchaseDF.groupby(customer_id).agg(\n",
    "        last_purchase = pd.NamedAgg(column = day, aggfunc = last_purchase_days)).reset_index()\n",
    "\n",
    "    #Labelling customers if the number of days since last purchase is greater than customers avarage period.\n",
    "    labelDF = pd.merge(periodDF,last_visitDF,on = customer_id, how = 'inner')\n",
    "    labelDF[label] = np.where(labelDF['last_purchase'] >= labelDF['customer_period'],1,0)\n",
    "    labelDF.drop(['customer_period','last_purchase'],axis = 1, inplace = True)\n",
    "    \n",
    "    return labelDF\n"
   ]
  },
  {
   "cell_type": "markdown",
   "metadata": {},
   "source": [
    "### Computing Customer features to be used in predictions.\n"
   ]
  },
  {
   "cell_type": "code",
   "execution_count": 14,
   "metadata": {},
   "outputs": [],
   "source": [
    "def data_proccessing_user(transaction_data,\n",
    "                          product_data,\n",
    "                          coupon_redempt):\n",
    "    \"\"\"Computing customers features with transaction and product data.\n",
    "    \"\"\"\n",
    "    \n",
    "    #lambda functions to be used in aggregations.\n",
    "    most_purchased_function = lambda column: column.value_counts().index[0]\n",
    "    count_non_zero = lambda column: column.ne(0).sum()\n",
    "    \n",
    "    #enriching transaction data with product information\n",
    "    transaction_info = pd.merge(transaction_data,\n",
    "                                productDF[[product_id,department,brand]],\n",
    "                                how='left',\n",
    "                                on=[product_id])\n",
    "    \n",
    "    #Average basket information of customers.\n",
    "    avg_customer_basket = transaction_info.groupby([customer_id,basket_id]).agg(\n",
    "        avg_customer_basket = (sales_value, 'mean'),\n",
    "        distinct_items_basket = (product_id,'nunique'),\n",
    "        items_in_basket = (product_id,'count')).groupby(level=0).agg(avg_basket_value = ('avg_customer_basket','mean'),\n",
    "                                                                     avg_distinct_items_basket = ('distinct_items_basket','mean'),\n",
    "                                                                     avg_items_in_basket = ('items_in_basket','mean')).reset_index()\n",
    "    \n",
    "    #aggration on transaction data and creating customer features.\n",
    "    agg_customer_data = transaction_info.groupby(customer_id).agg(purchase_count = (basket_id, 'count'),\n",
    "                                                    avarage_purchase_amount = (sales_value,'mean'),\n",
    "                                                    max_purchase_amount =(sales_value, 'max'),\n",
    "                                                    discount_purchase_count = (coupon_match, count_non_zero),\n",
    "                                                    total_unique_item_count = (product_id, 'nunique'),\n",
    "                                                    total_stores_visited = (store_id,'nunique')\n",
    "                                                    ).reset_index()\n",
    "    \n",
    "    featuresDF = agg_customer_data.merge(avg_customer_basket,on = customer_id,how='left')\n",
    "    \n",
    "    return featuresDF\n",
    "    \n",
    "    "
   ]
  },
  {
   "cell_type": "markdown",
   "metadata": {},
   "source": [
    "### Creating feature dataframe and labels."
   ]
  },
  {
   "cell_type": "code",
   "execution_count": 15,
   "metadata": {},
   "outputs": [],
   "source": [
    "from sklearn.preprocessing import StandardScaler\n",
    "def features_and_labels():\n",
    "    \"\"\"Proccessing for features and labels to be used in predictions.\n",
    "    Also applying standart scaling to features in case of usage in a classifier.\n",
    "    \"\"\"\n",
    "    \n",
    "    labelDF = labelling(transaction_data)\n",
    "    featureDF = data_proccessing_user(transaction_data,productDF,coupon_redemptDf)\n",
    "    train_test_df = featureDF.merge(labelDF, on=customer_id,how = 'inner').set_index(customer_id)\n",
    "    features = train_test_df.drop('label',axis=1)\n",
    "    sc = StandardScaler()\n",
    "    scaled_features = sc.fit_transform(features)\n",
    "    labels = train_test_df.label\n",
    "    \n",
    "    return features, scaled_features, labels"
   ]
  },
  {
   "cell_type": "code",
   "execution_count": 16,
   "metadata": {
    "scrolled": true
   },
   "outputs": [
    {
     "name": "stderr",
     "output_type": "stream",
     "text": [
      "/usr/local/lib/python3.6/dist-packages/ipykernel_launcher.py:7: RuntimeWarning: invalid value encountered in long_scalars\n",
      "  import sys\n"
     ]
    }
   ],
   "source": [
    "features, scaled_features,labels = features_and_labels()"
   ]
  },
  {
   "cell_type": "markdown",
   "metadata": {},
   "source": [
    "### Features dataframe preview."
   ]
  },
  {
   "cell_type": "code",
   "execution_count": 48,
   "metadata": {},
   "outputs": [
    {
     "data": {
      "text/html": [
       "<div>\n",
       "<style scoped>\n",
       "    .dataframe tbody tr th:only-of-type {\n",
       "        vertical-align: middle;\n",
       "    }\n",
       "\n",
       "    .dataframe tbody tr th {\n",
       "        vertical-align: top;\n",
       "    }\n",
       "\n",
       "    .dataframe thead th {\n",
       "        text-align: right;\n",
       "    }\n",
       "</style>\n",
       "<table border=\"1\" class=\"dataframe\">\n",
       "  <thead>\n",
       "    <tr style=\"text-align: right;\">\n",
       "      <th></th>\n",
       "      <th>purchase_count</th>\n",
       "      <th>avarage_purchase_amount</th>\n",
       "      <th>max_purchase_amount</th>\n",
       "      <th>discount_purchase_count</th>\n",
       "      <th>total_unique_item_count</th>\n",
       "      <th>total_stores_visited</th>\n",
       "      <th>avg_basket_value</th>\n",
       "      <th>avg_distinct_items_basket</th>\n",
       "      <th>avg_items_in_basket</th>\n",
       "    </tr>\n",
       "    <tr>\n",
       "      <th>household_key</th>\n",
       "      <th></th>\n",
       "      <th></th>\n",
       "      <th></th>\n",
       "      <th></th>\n",
       "      <th></th>\n",
       "      <th></th>\n",
       "      <th></th>\n",
       "      <th></th>\n",
       "      <th></th>\n",
       "    </tr>\n",
       "  </thead>\n",
       "  <tbody>\n",
       "    <tr>\n",
       "      <th>1</th>\n",
       "      <td>1727</td>\n",
       "      <td>2.507331</td>\n",
       "      <td>12.50</td>\n",
       "      <td>72.0</td>\n",
       "      <td>677</td>\n",
       "      <td>2</td>\n",
       "      <td>2.783575</td>\n",
       "      <td>20.081395</td>\n",
       "      <td>20.081395</td>\n",
       "    </tr>\n",
       "    <tr>\n",
       "      <th>2</th>\n",
       "      <td>714</td>\n",
       "      <td>2.737171</td>\n",
       "      <td>21.99</td>\n",
       "      <td>0.0</td>\n",
       "      <td>546</td>\n",
       "      <td>5</td>\n",
       "      <td>3.258139</td>\n",
       "      <td>15.866667</td>\n",
       "      <td>15.866667</td>\n",
       "    </tr>\n",
       "    <tr>\n",
       "      <th>3</th>\n",
       "      <td>922</td>\n",
       "      <td>2.877668</td>\n",
       "      <td>29.37</td>\n",
       "      <td>35.0</td>\n",
       "      <td>516</td>\n",
       "      <td>3</td>\n",
       "      <td>3.204537</td>\n",
       "      <td>19.617021</td>\n",
       "      <td>19.617021</td>\n",
       "    </tr>\n",
       "    <tr>\n",
       "      <th>4</th>\n",
       "      <td>301</td>\n",
       "      <td>3.987076</td>\n",
       "      <td>37.34</td>\n",
       "      <td>0.0</td>\n",
       "      <td>164</td>\n",
       "      <td>6</td>\n",
       "      <td>4.044173</td>\n",
       "      <td>10.033333</td>\n",
       "      <td>10.033333</td>\n",
       "    </tr>\n",
       "    <tr>\n",
       "      <th>5</th>\n",
       "      <td>222</td>\n",
       "      <td>3.509279</td>\n",
       "      <td>21.99</td>\n",
       "      <td>0.0</td>\n",
       "      <td>199</td>\n",
       "      <td>3</td>\n",
       "      <td>4.686616</td>\n",
       "      <td>5.550000</td>\n",
       "      <td>5.550000</td>\n",
       "    </tr>\n",
       "    <tr>\n",
       "      <th>...</th>\n",
       "      <td>...</td>\n",
       "      <td>...</td>\n",
       "      <td>...</td>\n",
       "      <td>...</td>\n",
       "      <td>...</td>\n",
       "      <td>...</td>\n",
       "      <td>...</td>\n",
       "      <td>...</td>\n",
       "      <td>...</td>\n",
       "    </tr>\n",
       "    <tr>\n",
       "      <th>2496</th>\n",
       "      <td>1489</td>\n",
       "      <td>2.914480</td>\n",
       "      <td>50.00</td>\n",
       "      <td>31.0</td>\n",
       "      <td>758</td>\n",
       "      <td>3</td>\n",
       "      <td>7.708217</td>\n",
       "      <td>23.634921</td>\n",
       "      <td>23.634921</td>\n",
       "    </tr>\n",
       "    <tr>\n",
       "      <th>2497</th>\n",
       "      <td>1962</td>\n",
       "      <td>3.624862</td>\n",
       "      <td>40.36</td>\n",
       "      <td>2.0</td>\n",
       "      <td>991</td>\n",
       "      <td>12</td>\n",
       "      <td>4.371505</td>\n",
       "      <td>8.877828</td>\n",
       "      <td>8.877828</td>\n",
       "    </tr>\n",
       "    <tr>\n",
       "      <th>2498</th>\n",
       "      <td>859</td>\n",
       "      <td>3.028638</td>\n",
       "      <td>28.64</td>\n",
       "      <td>0.0</td>\n",
       "      <td>642</td>\n",
       "      <td>7</td>\n",
       "      <td>3.832739</td>\n",
       "      <td>4.994186</td>\n",
       "      <td>4.994186</td>\n",
       "    </tr>\n",
       "    <tr>\n",
       "      <th>2499</th>\n",
       "      <td>1166</td>\n",
       "      <td>2.910866</td>\n",
       "      <td>57.00</td>\n",
       "      <td>1.0</td>\n",
       "      <td>709</td>\n",
       "      <td>9</td>\n",
       "      <td>6.773943</td>\n",
       "      <td>12.955556</td>\n",
       "      <td>12.955556</td>\n",
       "    </tr>\n",
       "    <tr>\n",
       "      <th>2500</th>\n",
       "      <td>1503</td>\n",
       "      <td>3.650140</td>\n",
       "      <td>63.96</td>\n",
       "      <td>40.0</td>\n",
       "      <td>1082</td>\n",
       "      <td>9</td>\n",
       "      <td>8.951766</td>\n",
       "      <td>13.300885</td>\n",
       "      <td>13.300885</td>\n",
       "    </tr>\n",
       "  </tbody>\n",
       "</table>\n",
       "<p>2500 rows × 9 columns</p>\n",
       "</div>"
      ],
      "text/plain": [
       "               purchase_count  avarage_purchase_amount  max_purchase_amount  \\\n",
       "household_key                                                                 \n",
       "1                        1727                 2.507331                12.50   \n",
       "2                         714                 2.737171                21.99   \n",
       "3                         922                 2.877668                29.37   \n",
       "4                         301                 3.987076                37.34   \n",
       "5                         222                 3.509279                21.99   \n",
       "...                       ...                      ...                  ...   \n",
       "2496                     1489                 2.914480                50.00   \n",
       "2497                     1962                 3.624862                40.36   \n",
       "2498                      859                 3.028638                28.64   \n",
       "2499                     1166                 2.910866                57.00   \n",
       "2500                     1503                 3.650140                63.96   \n",
       "\n",
       "               discount_purchase_count  total_unique_item_count  \\\n",
       "household_key                                                     \n",
       "1                                 72.0                      677   \n",
       "2                                  0.0                      546   \n",
       "3                                 35.0                      516   \n",
       "4                                  0.0                      164   \n",
       "5                                  0.0                      199   \n",
       "...                                ...                      ...   \n",
       "2496                              31.0                      758   \n",
       "2497                               2.0                      991   \n",
       "2498                               0.0                      642   \n",
       "2499                               1.0                      709   \n",
       "2500                              40.0                     1082   \n",
       "\n",
       "               total_stores_visited  avg_basket_value  \\\n",
       "household_key                                           \n",
       "1                                 2          2.783575   \n",
       "2                                 5          3.258139   \n",
       "3                                 3          3.204537   \n",
       "4                                 6          4.044173   \n",
       "5                                 3          4.686616   \n",
       "...                             ...               ...   \n",
       "2496                              3          7.708217   \n",
       "2497                             12          4.371505   \n",
       "2498                              7          3.832739   \n",
       "2499                              9          6.773943   \n",
       "2500                              9          8.951766   \n",
       "\n",
       "               avg_distinct_items_basket  avg_items_in_basket  \n",
       "household_key                                                  \n",
       "1                              20.081395            20.081395  \n",
       "2                              15.866667            15.866667  \n",
       "3                              19.617021            19.617021  \n",
       "4                              10.033333            10.033333  \n",
       "5                               5.550000             5.550000  \n",
       "...                                  ...                  ...  \n",
       "2496                           23.634921            23.634921  \n",
       "2497                            8.877828             8.877828  \n",
       "2498                            4.994186             4.994186  \n",
       "2499                           12.955556            12.955556  \n",
       "2500                           13.300885            13.300885  \n",
       "\n",
       "[2500 rows x 9 columns]"
      ]
     },
     "execution_count": 48,
     "metadata": {},
     "output_type": "execute_result"
    }
   ],
   "source": [
    "features"
   ]
  },
  {
   "cell_type": "markdown",
   "metadata": {},
   "source": [
    "### Splitting data for training and testing."
   ]
  },
  {
   "cell_type": "code",
   "execution_count": 17,
   "metadata": {},
   "outputs": [],
   "source": [
    "from sklearn.model_selection import train_test_split\n",
    "def splitting():\n",
    "    features,_,labels = features_and_labels()\n",
    "    \n",
    "    \n",
    "    #keep the labels ratio to not to get imbalanced training dataset.\n",
    "    X_train, X_test, y_train, y_test = train_test_split(features, labels,\n",
    "                                                    stratify=labels, \n",
    "                                                    test_size=0.3,random_state=92)\n",
    "    return X_train, X_test, y_train, y_test\n"
   ]
  },
  {
   "cell_type": "code",
   "execution_count": 18,
   "metadata": {
    "scrolled": true
   },
   "outputs": [
    {
     "name": "stderr",
     "output_type": "stream",
     "text": [
      "/usr/local/lib/python3.6/dist-packages/ipykernel_launcher.py:7: RuntimeWarning: invalid value encountered in long_scalars\n",
      "  import sys\n"
     ]
    }
   ],
   "source": [
    "X_train, X_test, y_train, y_test =splitting()"
   ]
  },
  {
   "cell_type": "markdown",
   "metadata": {},
   "source": [
    "### Constructing multilayer perceptron estimator and its parameters to be used in grid search to select best performed parameters."
   ]
  },
  {
   "cell_type": "code",
   "execution_count": 29,
   "metadata": {},
   "outputs": [],
   "source": [
    "from sklearn.neural_network import MLPClassifier\n",
    "from sklearn.model_selection import GridSearchCV\n",
    "from sklearn.metrics import accuracy_score, f1_score,classification_report,confusion_matrix\n",
    "from sklearn.preprocessing import StandardScaler\n",
    "\n",
    "def mlp_classifier():\n",
    "    \n",
    "    mlp = MLPClassifier()\n",
    "    \n",
    "    mlp_parameters = {\n",
    "    'hidden_layer_sizes': [(50,50,50), (50,100,50), (100,)],\n",
    "    'activation': ['tanh', 'relu'],\n",
    "    'solver': ['lbfgs', 'adam'],\n",
    "    'alpha': [0.0001, 0.05],\n",
    "    'learning_rate': ['constant','adaptive'],\n",
    "    'max_iter': [150,250,350]\n",
    "    }\n",
    "    \n",
    "    mlp_grid = GridSearchCV(mlp, mlp_parameters, n_jobs=-1, cv=4)\n",
    "    mlp_grid.fit(X_train, y_train)\n",
    "    print('Best parameters found for MLP Classifier : \\n', mlp_grid.best_params_)\n",
    "    \n",
    "    best_mlp_estimator = mlp_grid.best_estimator_\n",
    "    y_pred_mlp = best_mlp_estimator.predict(X_test)\n",
    "    print(classification_report(y_test, y_pred_mlp))\n",
    "\n",
    "    mlp_f1_score = f1_score(y_test, y_pred_mlp, average=\"macro\")\n",
    "    \n",
    "    return y_pred_mlp, mlp_f1_score\n",
    "    "
   ]
  },
  {
   "cell_type": "markdown",
   "metadata": {},
   "source": [
    "### Constructing random forest estimator and its parameters to be used in grid search to select best parameters."
   ]
  },
  {
   "cell_type": "code",
   "execution_count": 30,
   "metadata": {},
   "outputs": [],
   "source": [
    "from sklearn.ensemble import RandomForestClassifier\n",
    "\n",
    "def random_forest_classifier():\n",
    "    \n",
    "    rf = RandomForestClassifier()\n",
    "\n",
    "    rf_parameters = {\n",
    "            \"n_estimators\" : [10,50,150,200],\n",
    "            \"max_features\" : [\"auto\", \"log2\", \"sqrt\"],\n",
    "            \"bootstrap\"    : [True, False],\n",
    "            \"min_samples_leaf\": [1,2,3]\n",
    "                    }\n",
    "    \n",
    "    rf_grid = GridSearchCV(rf, rf_parameters, n_jobs=-1, cv=3)\n",
    "    rf_grid.fit(X_train, y_train)\n",
    "    print('Best Random Forest estimator parameters found:\\n', rf_grid.best_params_)\n",
    "    \n",
    "    best_rf_estimator = rf_grid.best_estimator_\n",
    "    y_pred_rf = best_rf_estimator.predict(X_test)\n",
    "    print(classification_report(y_test, y_pred_rf))\n",
    "    \n",
    "    rf_f1_score = f1_score(y_test, y_pred_rf, average=\"macro\")\n",
    "    \n",
    "    return y_pred_rf, rf_f1_score\n",
    "    "
   ]
  },
  {
   "cell_type": "markdown",
   "metadata": {},
   "source": [
    "### and also gradient boosted tree."
   ]
  },
  {
   "cell_type": "code",
   "execution_count": 40,
   "metadata": {},
   "outputs": [],
   "source": [
    "from sklearn.ensemble import GradientBoostingClassifier\n",
    "\n",
    "def gradient_boosting_tree():\n",
    "    \n",
    "    gbt = GradientBoostingClassifier()\n",
    "    \n",
    "    gbt_parameters = {\n",
    "            \"loss\":[\"deviance\"],\n",
    "            \"learning_rate\": [0.01, 0.05, 0.1, 0.2],\n",
    "            \"min_samples_split\": [2,4,6],\n",
    "            \"min_samples_leaf\": [1,3,5],\n",
    "            \"max_depth\":[3,5,10],\n",
    "            \"criterion\": [\"friedman_mse\"],\n",
    "            \"n_estimators\":[50,100,200]\n",
    "                }\n",
    "    \n",
    "    gbt_grid = GridSearchCV(gbt, gbt_parameters, n_jobs=-1, cv=4)\n",
    "    gbt_grid.fit(X_train, y_train)\n",
    "    print('Best Gradient boosted tree estimator parameters found:\\n', gbt_grid.best_params_)\n",
    "    \n",
    "    best_gbt_estimator = gbt_grid.best_estimator_\n",
    "    y_pred_gbt = best_gbt_estimator.predict(X_test)\n",
    "    print(classification_report(y_test, y_pred_gbt))\n",
    "    \n",
    "    gbt_f1_score = f1_score(y_test, y_pred_gbt, average=\"macro\")\n",
    "    \n",
    "    return y_pred_gbt, gbt_f1_score"
   ]
  },
  {
   "cell_type": "markdown",
   "metadata": {},
   "source": [
    "### Results of those 3 alghorithms on test dataset."
   ]
  },
  {
   "cell_type": "code",
   "execution_count": 42,
   "metadata": {
    "scrolled": false
   },
   "outputs": [
    {
     "name": "stdout",
     "output_type": "stream",
     "text": [
      "Best parameters found for MLP Classifier : \n",
      " {'activation': 'tanh', 'alpha': 0.05, 'hidden_layer_sizes': (50, 100, 50), 'learning_rate': 'adaptive', 'max_iter': 350, 'solver': 'adam'}\n",
      "              precision    recall  f1-score   support\n",
      "\n",
      "           0       0.59      0.93      0.73       445\n",
      "           1       0.42      0.07      0.12       305\n",
      "\n",
      "    accuracy                           0.58       750\n",
      "   macro avg       0.51      0.50      0.42       750\n",
      "weighted avg       0.52      0.58      0.48       750\n",
      "\n",
      "Best Random Forest estimator parameters found:\n",
      " {'bootstrap': True, 'max_features': 'auto', 'min_samples_leaf': 3, 'n_estimators': 10}\n",
      "              precision    recall  f1-score   support\n",
      "\n",
      "           0       0.60      0.71      0.65       445\n",
      "           1       0.42      0.30      0.35       305\n",
      "\n",
      "    accuracy                           0.55       750\n",
      "   macro avg       0.51      0.51      0.50       750\n",
      "weighted avg       0.53      0.55      0.53       750\n",
      "\n",
      "Best Gradient boosted tree estimator parameters found:\n",
      " {'criterion': 'friedman_mse', 'learning_rate': 0.01, 'loss': 'deviance', 'max_depth': 3, 'min_samples_leaf': 1, 'min_samples_split': 2, 'n_estimators': 100}\n",
      "              precision    recall  f1-score   support\n",
      "\n",
      "           0       0.60      0.97      0.74       445\n",
      "           1       0.55      0.06      0.10       305\n",
      "\n",
      "    accuracy                           0.60       750\n",
      "   macro avg       0.57      0.51      0.42       750\n",
      "weighted avg       0.58      0.60      0.48       750\n",
      "\n"
     ]
    }
   ],
   "source": [
    "y_pred_mlp, mlp_f1_score = mlp_classifier()\n",
    "y_pred_rf, rf_f1_score = random_forest_classifier()\n",
    "y_pred_gbt, gbt_f1_score = gradient_boosting_tree()"
   ]
  },
  {
   "cell_type": "markdown",
   "metadata": {},
   "source": [
    "### Selecting the algorithm who has highest f1 score."
   ]
  },
  {
   "cell_type": "code",
   "execution_count": 43,
   "metadata": {},
   "outputs": [],
   "source": [
    "def load_best_predictions(y_pred_rf,y_pred_mlp,y_pred_gbt):\n",
    "    if (rf_f1_score > mlp_f1_score and\n",
    "        rf_f1_score > gbt_f1_score):\n",
    "        #Return random forest prediction\n",
    "        print(\"Random Forest model predictions was selected with \" + str(rf_f1_score) + \"f1 score\")\n",
    "        return y_pred_rf\n",
    "    elif (mlp_f1_score > rf_f1_score and\n",
    "          mlp_f1_score > gbt_f1_score):\n",
    "        #Return multilayer perceptron predictions\n",
    "        print(\"Multilayer Perceptron model predictions was selected with \" + str(mlp_f1_score) + \"f1 score\")\n",
    "        return y_pred_mlp\n",
    "    elif (gbt_f1_score > rf_f1_score and\n",
    "          gbt_f1_score > mlp_f1_score):\n",
    "        #Return multilayer perceptron predictions\n",
    "        print(\"Gradient Boosting Tree model predictions was selected with \" + str(gbt_f1_score) + \"f1 score\")\n",
    "        return y_pred_gbt\n",
    "    else:\n",
    "        print(\"No model was found\")"
   ]
  },
  {
   "cell_type": "markdown",
   "metadata": {},
   "source": [
    "### Visualizing confusion matrix"
   ]
  },
  {
   "cell_type": "code",
   "execution_count": 46,
   "metadata": {},
   "outputs": [],
   "source": [
    "import seaborn as sns\n",
    "import matplotlib.pyplot as plt     \n",
    "def plot_confusion_matrix():\n",
    "    \n",
    "    best_model_pred= load_best_predictions(y_pred_rf,y_pred_mlp,y_pred_gbt)\n",
    "    labels= [0,1]\n",
    "    cm = confusion_matrix(y_test,best_model_pred,labels)\n",
    "    ax= plt.subplot()\n",
    "    sns.heatmap(cm, annot=True,fmt='g', ax = ax); #annot=True to annotate cells\n",
    "\n",
    "    # labels, title and ticks\n",
    "    ax.set_xlabel('Predicted labels');ax.set_ylabel('True labels'); \n",
    "    ax.set_title('Confusion Matrix'); \n",
    "    ax.xaxis.set_ticklabels(['not churn', 'churn']); ax.yaxis.set_ticklabels(['not churn', 'churn'])\n",
    "    bottom, top = ax.get_ylim()\n",
    "    ax.set_ylim(bottom + 0.5, top - 0.5)\n",
    "    print('accuracy = ' + str(accuracy_score(y_test, best_model_pred)))\n",
    "    print('f1 score = ' + str(f1_score(y_test, best_model_pred, average=\"macro\")))\n"
   ]
  },
  {
   "cell_type": "markdown",
   "metadata": {},
   "source": [
    "### As it seems there is a lot of room to grow on the quality. This might be overcome with more feature engineering and including customer demographic data. However if we can in predict nearly %33 percent of customer who will churn, it will still have a positive impact on our campaigns."
   ]
  },
  {
   "cell_type": "code",
   "execution_count": 49,
   "metadata": {},
   "outputs": [
    {
     "name": "stdout",
     "output_type": "stream",
     "text": [
      "Random Forest model predictions was selected with 0.5032967032967033f1 score\n",
      "accuracy = 0.548\n",
      "f1 score = 0.5032967032967033\n"
     ]
    },
    {
     "data": {
      "image/png": "[encoded data removed]",
      "text/plain": [
       "<Figure size 432x288 with 2 Axes>"
      ]
     },
     "metadata": {
      "needs_background": "light"
     },
     "output_type": "display_data"
    }
   ],
   "source": [
    "plot_confusion_matrix()\n"
   ]
  },
  {
   "cell_type": "code",
   "execution_count": null,
   "metadata": {},
   "outputs": [],
   "source": []
  }
 ],
 "metadata": {
  "kernelspec": {
   "display_name": "Python 3",
   "language": "python",
   "name": "python3"
  },
  "language_info": {
   "codemirror_mode": {
    "name": "ipython",
    "version": 3
   },
   "file_extension": ".py",
   "mimetype": "text/x-python",
   "name": "python",
   "nbconvert_exporter": "python",
   "pygments_lexer": "ipython3",
   "version": "3.6.8"
  }
 },
 "nbformat": 4,
 "nbformat_minor": 2
}
